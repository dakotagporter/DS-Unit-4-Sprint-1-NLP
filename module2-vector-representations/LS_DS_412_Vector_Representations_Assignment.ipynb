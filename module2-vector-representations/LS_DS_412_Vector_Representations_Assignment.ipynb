{
 "cells": [
  {
   "cell_type": "markdown",
   "metadata": {},
   "source": [
    "<img align=\"left\" src=\"https://lever-client-logos.s3.amazonaws.com/864372b1-534c-480e-acd5-9711f850815c-1524247202159.png\" width=200>\n",
    "<br></br>\n",
    "\n",
    "# Vector Representations\n",
    "## *Data Science Unit 4 Sprint 2 Assignment 2*"
   ]
  },
  {
   "cell_type": "code",
   "execution_count": 2,
   "metadata": {
    "colab": {
     "base_uri": "https://localhost:8080/",
     "height": 159
    },
    "colab_type": "code",
    "id": "hyj-f9FDcVFp",
    "outputId": "5dd045fe-6e4c-458c-e2fc-253c3da9c805"
   },
   "outputs": [],
   "source": [
    "import re\n",
    "import string\n",
    "\n",
    "from sklearn.feature_extraction.text import CountVectorizer, TfidfVectorizer\n",
    "import matplotlib.pyplot as plt\n",
    "import pandas as pd\n",
    "import numpy as np\n",
    "import spacy\n",
    "\n",
    "from bs4 import BeautifulSoup\n",
    "nlp = spacy.load(\"en_core_web_lg\")"
   ]
  },
  {
   "cell_type": "markdown",
   "metadata": {
    "colab_type": "text",
    "id": "M7bcmqfGXrFG"
   },
   "source": [
    "## 1) *Clean:* Job Listings from indeed.com that contain the title \"Data Scientist\" \n",
    "\n",
    "You have `job_listings.csv` in the data folder for this module. The text data in the description column is still messy - full of html tags. Use the [BeautifulSoup](https://www.crummy.com/software/BeautifulSoup/bs4/doc/) library to clean up this column. You will need to read through the documentation to accomplish this task. "
   ]
  },
  {
   "cell_type": "code",
   "execution_count": 58,
   "metadata": {
    "colab": {},
    "colab_type": "code",
    "id": "KcYlc1URXhlC"
   },
   "outputs": [
    {
     "data": {
      "text/html": [
       "<div>\n",
       "<style scoped>\n",
       "    .dataframe tbody tr th:only-of-type {\n",
       "        vertical-align: middle;\n",
       "    }\n",
       "\n",
       "    .dataframe tbody tr th {\n",
       "        vertical-align: top;\n",
       "    }\n",
       "\n",
       "    .dataframe thead th {\n",
       "        text-align: right;\n",
       "    }\n",
       "</style>\n",
       "<table border=\"1\" class=\"dataframe\">\n",
       "  <thead>\n",
       "    <tr style=\"text-align: right;\">\n",
       "      <th></th>\n",
       "      <th>Unnamed: 0</th>\n",
       "      <th>description</th>\n",
       "      <th>title</th>\n",
       "    </tr>\n",
       "  </thead>\n",
       "  <tbody>\n",
       "    <tr>\n",
       "      <th>0</th>\n",
       "      <td>0</td>\n",
       "      <td>b\"&lt;div&gt;&lt;div&gt;Job Requirements:&lt;/div&gt;&lt;ul&gt;&lt;li&gt;&lt;p&gt;...</td>\n",
       "      <td>Data scientist</td>\n",
       "    </tr>\n",
       "    <tr>\n",
       "      <th>1</th>\n",
       "      <td>1</td>\n",
       "      <td>b'&lt;div&gt;Job Description&lt;br/&gt;\\n&lt;br/&gt;\\n&lt;p&gt;As a Da...</td>\n",
       "      <td>Data Scientist I</td>\n",
       "    </tr>\n",
       "    <tr>\n",
       "      <th>2</th>\n",
       "      <td>2</td>\n",
       "      <td>b'&lt;div&gt;&lt;p&gt;As a Data Scientist you will be work...</td>\n",
       "      <td>Data Scientist - Entry Level</td>\n",
       "    </tr>\n",
       "    <tr>\n",
       "      <th>3</th>\n",
       "      <td>3</td>\n",
       "      <td>b'&lt;div class=\"jobsearch-JobMetadataHeader icl-...</td>\n",
       "      <td>Data Scientist</td>\n",
       "    </tr>\n",
       "    <tr>\n",
       "      <th>4</th>\n",
       "      <td>4</td>\n",
       "      <td>b'&lt;ul&gt;&lt;li&gt;Location: USA \\xe2\\x80\\x93 multiple ...</td>\n",
       "      <td>Data Scientist</td>\n",
       "    </tr>\n",
       "  </tbody>\n",
       "</table>\n",
       "</div>"
      ],
      "text/plain": [
       "   Unnamed: 0                                        description  \\\n",
       "0           0  b\"<div><div>Job Requirements:</div><ul><li><p>...   \n",
       "1           1  b'<div>Job Description<br/>\\n<br/>\\n<p>As a Da...   \n",
       "2           2  b'<div><p>As a Data Scientist you will be work...   \n",
       "3           3  b'<div class=\"jobsearch-JobMetadataHeader icl-...   \n",
       "4           4  b'<ul><li>Location: USA \\xe2\\x80\\x93 multiple ...   \n",
       "\n",
       "                          title  \n",
       "0               Data scientist   \n",
       "1              Data Scientist I  \n",
       "2  Data Scientist - Entry Level  \n",
       "3                Data Scientist  \n",
       "4                Data Scientist  "
      ]
     },
     "execution_count": 58,
     "metadata": {},
     "output_type": "execute_result"
    }
   ],
   "source": [
    "from bs4 import BeautifulSoup\n",
    "import requests\n",
    "\n",
    "df = pd.read_csv(\"data/job_listings.csv\")                \n",
    "df.head()"
   ]
  },
  {
   "cell_type": "code",
   "execution_count": 59,
   "metadata": {},
   "outputs": [],
   "source": [
    "def filter_html(html):\n",
    "    \"\"\"Parse through given html to remove tags and return text data.\n",
    "    \n",
    "    Args:\n",
    "        html (str): Html structured strings to be parsed.\n",
    "    \n",
    "    Returns:\n",
    "        str: Text data.\n",
    "    \"\"\"\n",
    "    soup = BeautifulSoup(html, \"html.parser\")\n",
    "    \n",
    "    return \" \".join(soup.get_text().split(\"\\\\n\")).strip('b')"
   ]
  },
  {
   "cell_type": "code",
   "execution_count": 60,
   "metadata": {},
   "outputs": [],
   "source": [
    "# Write over the original description column with the filtered html text data.\n",
    "df[\"description\"] = df[\"description\"].apply(filter_html)"
   ]
  },
  {
   "cell_type": "code",
   "execution_count": 61,
   "metadata": {},
   "outputs": [
    {
     "data": {
      "text/plain": [
       "0      \"Job Requirements: Conceptual understanding in...\n",
       "1      'Job Description  As a Data Scientist 1, you w...\n",
       "2      'As a Data Scientist you will be working on co...\n",
       "3      '$4,969 - $6,756 a monthContractUnder the gene...\n",
       "4      'Location: USA \\xe2\\x80\\x93 multiple locations...\n",
       "                             ...                        \n",
       "421    \"About Us: Want to be part of a fantastic and ...\n",
       "422    'InternshipAt Uber, we ignite opportunity by s...\n",
       "423    '$200,000 - $350,000 a yearA million people a ...\n",
       "424    \"SENIOR DATA SCIENTIST JOB DESCRIPTION  ABOUT ...\n",
       "425    'Cerner Intelligence is a new, innovative orga...\n",
       "Name: description, Length: 426, dtype: object"
      ]
     },
     "execution_count": 61,
     "metadata": {},
     "output_type": "execute_result"
    }
   ],
   "source": [
    "df['description']"
   ]
  },
  {
   "cell_type": "markdown",
   "metadata": {
    "colab_type": "text",
    "id": "5C4xFZNtX1m2"
   },
   "source": [
    "## 2) Use Spacy to tokenize the listings "
   ]
  },
  {
   "cell_type": "code",
   "execution_count": 62,
   "metadata": {},
   "outputs": [],
   "source": [
    "def tokenize(document):\n",
    "    doc = nlp(document)\n",
    "    \n",
    "    tokens = [token.lemma_.lower().strip() for token in doc if (token.is_stop != True) and (token.is_punct != True) and (token.text not in [\"$\", \" \"])]\n",
    "    \n",
    "    return tokens"
   ]
  },
  {
   "cell_type": "markdown",
   "metadata": {
    "colab_type": "text",
    "id": "-lgCZNL_YycP"
   },
   "source": [
    "## 3) Use Scikit-Learn's CountVectorizer to get word counts for each listing."
   ]
  },
  {
   "cell_type": "code",
   "execution_count": 69,
   "metadata": {},
   "outputs": [],
   "source": [
    "STOP_WORDS = nlp.Defaults.stop_words.union([\"apply\", \"now\", \"job\", \"requirement\", \"description\"])"
   ]
  },
  {
   "cell_type": "code",
   "execution_count": 73,
   "metadata": {
    "colab": {},
    "colab_type": "code",
    "id": "X2PZ8Pj_YxcF"
   },
   "outputs": [
    {
     "name": "stderr",
     "output_type": "stream",
     "text": [
      "c:\\users\\dakot\\.virtualenvs\\ds-unit-4-sprint-1-nlp-odz-vccn\\lib\\site-packages\\sklearn\\feature_extraction\\text.py:382: UserWarning: Your stop_words may be inconsistent with your preprocessing. Tokenizing the stop words generated tokens ['d', 'm', 've'] not in stop_words.\n",
      "  warnings.warn('Your stop_words may be inconsistent with '\n"
     ]
    }
   ],
   "source": [
    "vect = CountVectorizer(tokenizer=tokenize,\n",
    "                       stop_words=STOP_WORDS)\n",
    "\n",
    "vect.fit(df[\"description\"])\n",
    "\n",
    "dtm = vect.transform(df[\"description\"])"
   ]
  },
  {
   "cell_type": "markdown",
   "metadata": {
    "colab_type": "text",
    "id": "Zo1iH_UeY7_n"
   },
   "source": [
    "## 4) Visualize the most common word counts"
   ]
  },
  {
   "cell_type": "code",
   "execution_count": 103,
   "metadata": {
    "colab": {},
    "colab_type": "code",
    "id": "M5LB00uyZKV5"
   },
   "outputs": [],
   "source": [
    "wc = pd.DataFrame(data=dtm.todense(), columns=vect.get_feature_names())"
   ]
  },
  {
   "cell_type": "markdown",
   "metadata": {
    "colab_type": "text",
    "id": "bwFsTqrVZMYi"
   },
   "source": [
    "## 5) Use Scikit-Learn's tfidfVectorizer to get a TF-IDF feature matrix"
   ]
  },
  {
   "cell_type": "code",
   "execution_count": 96,
   "metadata": {
    "colab": {},
    "colab_type": "code",
    "id": "-gx2gZCbl5Np"
   },
   "outputs": [
    {
     "name": "stderr",
     "output_type": "stream",
     "text": [
      "c:\\users\\dakot\\.virtualenvs\\ds-unit-4-sprint-1-nlp-odz-vccn\\lib\\site-packages\\sklearn\\feature_extraction\\text.py:507: UserWarning: The parameter 'token_pattern' will not be used since 'tokenizer' is not None'\n",
      "  warnings.warn(\"The parameter 'token_pattern' will not be used\"\n",
      "c:\\users\\dakot\\.virtualenvs\\ds-unit-4-sprint-1-nlp-odz-vccn\\lib\\site-packages\\sklearn\\feature_extraction\\text.py:382: UserWarning: Your stop_words may be inconsistent with your preprocessing. Tokenizing the stop words generated tokens ['d', 'm', 've'] not in stop_words.\n",
      "  warnings.warn('Your stop_words may be inconsistent with '\n"
     ]
    }
   ],
   "source": [
    "vect = TfidfVectorizer(tokenizer=tokenize,\n",
    "                       stop_words=STOP_WORDS)\n",
    "\n",
    "vect.fit(df[\"description\"])\n",
    "\n",
    "dtm = vect.transform(df[\"description\"])"
   ]
  },
  {
   "cell_type": "markdown",
   "metadata": {},
   "source": [
    "## 6) Create a NearestNeighbor Model. Write the description of your ideal datascience job and query your job listings. "
   ]
  },
  {
   "cell_type": "code",
   "execution_count": 98,
   "metadata": {
    "inputHidden": false,
    "jupyter": {
     "outputs_hidden": false
    },
    "outputHidden": false
   },
   "outputs": [
    {
     "data": {
      "text/plain": [
       "NearestNeighbors(algorithm='kd_tree', leaf_size=30, metric='minkowski',\n",
       "                 metric_params=None, n_jobs=None, n_neighbors=10, p=2,\n",
       "                 radius=1.0)"
      ]
     },
     "execution_count": 98,
     "metadata": {},
     "output_type": "execute_result"
    }
   ],
   "source": [
    "from sklearn.neighbors import NearestNeighbors\n",
    "\n",
    "nn = NearestNeighbors(algorithm=\"kd_tree\",\n",
    "                      n_neighbors=10)\n",
    "\n",
    "nn.fit(dtm)"
   ]
  },
  {
   "cell_type": "code",
   "execution_count": 100,
   "metadata": {
    "scrolled": true
   },
   "outputs": [
    {
     "data": {
      "text/plain": [
       "(array([[1.25496227, 1.25496227, 1.30213162, 1.30734456, 1.3091513 ,\n",
       "         1.32244375, 1.32244375, 1.32274969, 1.32653132, 1.32691683]]),\n",
       " array([[ 76, 172, 169, 403, 364, 395, 155, 358, 136, 111]], dtype=int64))"
      ]
     },
     "execution_count": 100,
     "metadata": {},
     "output_type": "execute_result"
    }
   ],
   "source": [
    "my_desc = \"I want to work somewhere where I can use Python and other coding languages to be able to understand cool technologies. Data engineering is something I am very interested in as well. I like to communicate with a team and build useful insights for the company.\"\n",
    "\n",
    "my_desc_vect = vect.transform([my_desc])\n",
    "\n",
    "nn.kneighbors(my_desc_vect.todense())"
   ]
  },
  {
   "cell_type": "code",
   "execution_count": 102,
   "metadata": {},
   "outputs": [
    {
     "data": {
      "text/plain": [
       "'\\'Title: Data Scientist This role is designed for people who like to dig into data, figure out what matters, and communicate those insights to others. Fast. Background At numo, we create and incubate new \"fintech\" companies. numo seeks a business-minded, results-oriented data scientist who wants to see the insights they derive be put to work in early stage product concepts. The Venture team, which you will be a key member of, sits at the fuzzy front end of the idea pipeline, partnering with internal stakeholders, 3rd-parties and academics to define new product development opportunities in the fintech space. We\\\\\\'re looking for a hands-on data wizard who wants to experiment with new data sources, analyze data, problem solve about how data can be used, develop predictive models, and deploy and maintain these models as they become part of our product portfolio. Our venture team includes product and business experts, and now we\\\\\\'re seeking to build our data science competency in the space. This role will include a combination of: exploring data insights and challenges that go beyond what is common in the financial world today, digging into large, novel datasets to derive trends and insights that will turn into commercializable products, bringing technical and data horsepower to bear as we elevate the work from ambiguous idea to robust prototype. You will be responsible for actually making and coding. The role will be a great fit for someone who is able to derive insights from data, prototype early, make something simple, allow others to test it and gather client feedback soon and often. It\\\\\\'s not necessarily about stewarding a product through to launch but will most often be about going deep early to explore a product or opportunity from all angles with respect to data. What you\\\\\\'ll be doing \\\\xe2\\\\x80\\\\x93 sound interesting? Leverage your deep understanding of data science and modern tech to enhance numo\\\\\\'s early stage product ideas. Work with Venture leadership to ideate and outline project objectives related to data sources and models. Experiment with data, data sources and data models to deliver early stage insights and models that contribute to our products. Utilize your expertise to provide data, modeling and data platform guidance including limitations and opportunities. You will explore the very latest technologies to produce innovative financial products, predictive models, and insights to drive business decisions. What an ideal candidate will bring to the table \\\\xe2\\\\x80\\\\x93 does this describe you? Thrive in an environment where you\\\\\\'ll work across multiple projects at once Able to work in a fast-paced environment Analytical problem solver who wants to spend time learning about new data sources and technologies and demonstrating value Experienced in working with / analyzing large, complex data sets using tools such as R, Stata, etc. Skilled communicator - able to present to stakeholders when needed. An experienced coder who is passionate about the tech world (and ideally fintech) Able to operate in a lead role developing innovative data-driven ideas Can learn new software and concepts quickly Has high level of knowledge of software implementation Who we are  We are a team of technologists, designers, business thinkers, and academics that create software and data products. We pair opportunities in FinTech with cutting-edge technologies and data analysis. Funded in full by our parent financial institution, we do more with ideas than just talk about them\\\\xe2\\\\x80\\\\x94we have the tools and resources necessary to bring them to life. We launch products for a variety of financial institutions and beyond to help them solve compelling pains. What numo offers Competitive salary Cool office space at Bakery Square Opportunity to work on cool new technology Great benefits Note: When applying, we like to see a thoughtful cover letter that addresses our requirements.\\''"
      ]
     },
     "execution_count": 102,
     "metadata": {},
     "output_type": "execute_result"
    }
   ],
   "source": [
    "df.iloc[76].description"
   ]
  },
  {
   "cell_type": "markdown",
   "metadata": {
    "colab_type": "text",
    "id": "FiDfTWceoRkH"
   },
   "source": [
    "## Stretch Goals\n",
    "\n",
    " - Try different visualizations for words and frequencies - what story do you want to tell with the data?\n",
    " - Scrape Job Listings for the job title \"Data Analyst\". How do these differ from Data Scientist Job Listings\n",
    " - Try and identify requirements for experience specific technologies that are asked for in the job listings. How are those distributed among the job listings?\n",
    " - Use a clustering algorithm to cluster documents by their most important terms. Do the clusters reveal any common themes?\n",
    "  - **Hint:** K-means might not be the best algorithm for this. Do a little bit of research to see what might be good for this. Also, remember that algorithms that depend on Euclidean distance break down with high dimensional data.\n",
    " - Create a labeled dataset - which jobs will you apply for? Train a model to select the jobs you are most likely to apply for. :) "
   ]
  }
 ],
 "metadata": {
  "colab": {
   "collapsed_sections": [],
   "name": "LS_DS_422_BOW_Assignment.ipynb",
   "provenance": [],
   "version": "0.3.2"
  },
  "kernel_info": {
   "name": "python3"
  },
  "kernelspec": {
   "display_name": "Python 3",
   "language": "python",
   "name": "python3"
  },
  "language_info": {
   "codemirror_mode": {
    "name": "ipython",
    "version": 3
   },
   "file_extension": ".py",
   "mimetype": "text/x-python",
   "name": "python",
   "nbconvert_exporter": "python",
   "pygments_lexer": "ipython3",
   "version": "3.8.6"
  },
  "nteract": {
   "version": "0.14.3"
  }
 },
 "nbformat": 4,
 "nbformat_minor": 4
}
